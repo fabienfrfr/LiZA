{
 "cells": [
  {
   "cell_type": "code",
   "execution_count": 1,
   "metadata": {
    "_cell_guid": "b1076dfc-b9ad-4769-8c92-a6c4dae69d19",
    "_uuid": "8f2839f25d086af736a60e9eeb907d3b93b6e0e5",
    "trusted": true
   },
   "outputs": [],
   "source": [
    "#!pip install -q -U git+https://github.com/fabienfrfr/tptt@main\n",
    "#!python -V\n",
    "#!pip list"
   ]
  },
  {
   "cell_type": "markdown",
   "metadata": {},
   "source": [
    "- Llama / Llama 2/3\t`self_attn ou attention`\tq_proj, k_proj, v_proj, o_proj\n",
    "- GPT-2/3/Neo/J\t`attn ou attention`\tc_attn, c_proj (GPT-2), q_proj, etc.\n",
    "- Mistral\t`self_attn`\tq_proj, k_proj, v_proj, o_proj\n",
    "- OpenELM\t`attn`\tqkv_proj, out_proj"
   ]
  },
  {
   "cell_type": "code",
   "execution_count": null,
   "metadata": {},
   "outputs": [],
   "source": [
    "\"\"\"\n",
    "hidden_states.shape: torch.Size([2, 256, 2048])\n",
    "attention_mask.shape: torch.Size([2, 1, 256, 256])\n",
    "v.shape: torch.Size([2, 256, 256])\n",
    "\"\"\""
   ]
  },
  {
   "cell_type": "code",
   "execution_count": null,
   "metadata": {
    "trusted": true
   },
   "outputs": [
    {
     "name": "stderr",
     "output_type": "stream",
     "text": [
      "/home/fabien/.pyenv/versions/3.11.11/lib/python3.11/site-packages/tqdm/auto.py:21: TqdmWarning: IProgress not found. Please update jupyter and ipywidgets. See https://ipywidgets.readthedocs.io/en/stable/user_install.html\n",
      "  from .autonotebook import tqdm as notebook_tqdm\n",
      "You are using the default legacy behaviour of the <class 'transformers.models.llama.tokenization_llama_fast.LlamaTokenizerFast'>. This is expected, and simply means that the `legacy` (previous) behavior will be used so nothing changes for you. If you want to use the new behaviour, set `legacy=False`. This should only be set if you understand what it means, and thoroughly read the reason why this was added as explained in https://github.com/huggingface/transformers/pull/24565 - if you loaded a llama tokenizer from a GGUF file you can ignore this message.\n",
      "The installed version of bitsandbytes was compiled without GPU support. 8-bit optimizers, 8-bit multiplication, and GPU quantization are unavailable.\n"
     ]
    }
   ],
   "source": [
    "import sys\n",
    "sys.path.append('../src')\n",
    "\n",
    "import tptt\n",
    "from datasets import load_dataset\n",
    "\n",
    "# 1. Config et modèle\n",
    "# config = tptt.TpttConfig(base_model_name=\"gpt2\") # Target modules {'v_proj', 'q_proj'} not found in the base model.\n",
    "# config = tptt.TpttConfig(base_model_name=\"TinyLlama/TinyLlama-1.1B-intermediate-step-1431k-3T\") # Minimum 5GB RAM (if not quantized, else 500MB)\n",
    "config = tptt.TpttConfig(base_model_name=\"apple/OpenELM-270M\", base_tokenizer_name=\"hf-internal-testing/llama-tokenizer\")\n",
    "model = tptt.TpttModel(config)\n",
    "\n",
    "# 2. (Optionnel) Injection LoRA\n",
    "model.add_lora()\n",
    "\n",
    "# 3. Préparation du dataset\n",
    "dataset = load_dataset(\"yahma/alpaca-cleaned\")[\"train\"].select(range(100))\n",
    "# (instruction_format est importé via tptt)\n",
    "dataset = dataset.map(tptt.instruction_format)\n",
    "\n",
    "# 4. Entraînement\n",
    "trainer = tptt.TpttTrainer(model, dataset)\n",
    "trainer.train()\n",
    "\n",
    "# 5. Génération\n",
    "pipe = tptt.TpttPipeline(model)\n",
    "print(pipe(\"Once upon a time,\"))\n",
    "\n",
    "# 6. Sauvegarde\n",
    "model.save_pretrained(\"./my_tptt_model\")"
   ]
  }
 ],
 "metadata": {
  "kaggle": {
   "accelerator": "none",
   "dataSources": [],
   "dockerImageVersionId": 31040,
   "isGpuEnabled": false,
   "isInternetEnabled": true,
   "language": "python",
   "sourceType": "notebook"
  },
  "kernelspec": {
   "display_name": "Python 3",
   "language": "python",
   "name": "python3"
  },
  "language_info": {
   "codemirror_mode": {
    "name": "ipython",
    "version": 3
   },
   "file_extension": ".py",
   "mimetype": "text/x-python",
   "name": "python",
   "nbconvert_exporter": "python",
   "pygments_lexer": "ipython3",
   "version": "3.11.11"
  }
 },
 "nbformat": 4,
 "nbformat_minor": 4
}
